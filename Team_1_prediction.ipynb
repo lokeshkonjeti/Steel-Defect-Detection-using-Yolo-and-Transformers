{
 "cells": [
  {
   "cell_type": "code",
   "execution_count": null,
   "metadata": {},
   "outputs": [],
   "source": [
    "#CNN Model\n",
    "import os\n",
    "import tensorflow as tf\n",
    "from tensorflow.keras.preprocessing import image\n",
    "import numpy as np\n",
    "from ultralytics import YOLO\n",
    "from google.colab import files\n",
    "\n",
    "model = tf.keras.models.load_model('cnn_defective_non_defective_model.h5')\n",
    "\n",
    "img_path = '00ac8372f_jpg.rf.78525b506d3512039d1c793b2d095318.jpg'  # Replace with the actual path to your image\n",
    "img = image.load_img(img_path, target_size=(150, 150))\n",
    "x = image.img_to_array(img)\n",
    "x = np.expand_dims(x, axis=0)\n",
    "x = x / 255.0\n",
    "\n",
    "prediction = model.predict(x)\n",
    "\n",
    "if prediction[0][0] > 0.5:\n",
    "    print(\"The image is predicted as defective.\")\n",
    "else:\n",
    "    print(\"The image is predicted as non-defective.\")\n"
   ]
  },
  {
   "cell_type": "code",
   "execution_count": null,
   "metadata": {},
   "outputs": [],
   "source": [
    "#YOLO MODEL\n",
    "model_path = '/train5/weights/best.pt' #path to the weights file\n",
    "\n",
    "if not os.path.exists(model_path):\n",
    "    print(f\"Error: Model file not found at {model_path}\")\n",
    "else:\n",
    "    model = YOLO(model_path)\n",
    "    uploaded = files.upload()\n",
    "    for fn in uploaded.keys():\n",
    "        img_path = fn\n",
    "        results = model(img_path,conf=0.4)\n",
    "        results[0].show() # Displays the image with bounding boxes"
   ]
  }
 ],
 "metadata": {
  "language_info": {
   "name": "python"
  }
 },
 "nbformat": 4,
 "nbformat_minor": 2
}
